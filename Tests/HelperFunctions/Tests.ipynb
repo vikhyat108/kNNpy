{
 "cells": [
  {
   "cell_type": "markdown",
   "id": "6f296739-cf81-4b22-9142-064d91162d83",
   "metadata": {},
   "source": [
    "# Imports"
   ]
  },
  {
   "cell_type": "code",
   "execution_count": 2,
   "id": "9e4ef8c2-0211-4c42-96fe-ccae0a321f87",
   "metadata": {
    "scrolled": true
   },
   "outputs": [],
   "source": [
    "#Install ipytest package (uncomment only if not already installed)\n",
    "\n",
    "# !pip install ipytest"
   ]
  },
  {
   "cell_type": "code",
   "execution_count": 3,
   "id": "582a4b68-0194-48d1-a6c7-e755ba0c5e41",
   "metadata": {},
   "outputs": [],
   "source": [
    "#External libraries\n",
    "\n",
    "import ipytest\n",
    "import pytest\n",
    "\n",
    "import numpy as np\n",
    "\n",
    "import os\n",
    "import sys"
   ]
  },
  {
   "cell_type": "code",
   "execution_count": 12,
   "id": "aac2380f-4e4a-4dec-9406-610f46025e62",
   "metadata": {},
   "outputs": [],
   "source": [
    "#The module that needs to be tested\n",
    "\n",
    "#Necessary for relative imports (see https://stackoverflow.com/questions/34478398/import-local-function-from-a-module-housed-in-another-directory-with-relative-im)\n",
    "module_path = os.path.abspath(os.path.join('../../'))           # '../../' is needed because the parent directory is two directories upstream of this test directory\n",
    "if module_path not in sys.path:\n",
    "    sys.path.append(module_path)\n",
    "\n",
    "from kNN_ASMR import HelperFunctions as hf"
   ]
  },
  {
   "cell_type": "markdown",
   "id": "04e01acd-e3ae-4ad8-9d46-5bf590b61762",
   "metadata": {},
   "source": [
    "# Setup"
   ]
  },
  {
   "cell_type": "code",
   "execution_count": 4,
   "id": "59da17f1-79c8-4055-a65b-d19e36fe8284",
   "metadata": {},
   "outputs": [],
   "source": [
    "ipytest.autoconfig()"
   ]
  },
  {
   "cell_type": "markdown",
   "id": "ef507aef-5016-4853-9671-e36c579e8872",
   "metadata": {},
   "source": [
    "# Test functions"
   ]
  },
  {
   "cell_type": "code",
   "execution_count": 15,
   "id": "d06506f2-aac6-45ad-b577-1c24a4545ef6",
   "metadata": {},
   "outputs": [
    {
     "name": "stdout",
     "output_type": "stream",
     "text": [
      "\u001b[32m.\u001b[0m\u001b[32m                                                                                            [100%]\u001b[0m\n",
      "\u001b[32m\u001b[32m\u001b[1m1 passed\u001b[0m\u001b[32m in 0.01s\u001b[0m\u001b[0m\n"
     ]
    }
   ],
   "source": [
    "%%ipytest\n",
    "\n",
    "def test_bl_th():\n",
    "\n",
    "    l = 0\n",
    "    ss = np.pi/2\n",
    "\n",
    "    bl = hf.bl_th(l, ss)\n",
    "    \n",
    "    assert bl==(1-np.cos(ss))/(4*np.pi*(1-np.cos(ss)))"
   ]
  },
  {
   "cell_type": "code",
   "execution_count": 13,
   "id": "af1ff784-857e-4fc7-882e-113c7845435d",
   "metadata": {},
   "outputs": [
    {
     "name": "stdout",
     "output_type": "stream",
     "text": [
      "\u001b[32m.\u001b[0m\u001b[32m                                                                                            [100%]\u001b[0m\n"
     ]
    }
   ],
   "source": [
    "%%ipytest -qq\n",
    "#-qq means quiet\n",
    "\n",
    "def test_bl_th():\n",
    "\n",
    "    l = 0\n",
    "    ss = np.pi/2\n",
    "\n",
    "    bl = hf.bl_th(l, ss)\n",
    "    \n",
    "    assert bl==(1-np.cos(ss))/(4*np.pi*(1-np.cos(ss)))"
   ]
  },
  {
   "cell_type": "code",
   "execution_count": 11,
   "id": "33c7a9b5-90a6-42cb-9ec8-351af42dd028",
   "metadata": {},
   "outputs": [
    {
     "name": "stdout",
     "output_type": "stream",
     "text": [
      "\u001b[1m======================================= test session starts ========================================\u001b[0m\n",
      "platform linux -- Python 3.10.12, pytest-7.3.1, pluggy-1.0.0 -- /usr/bin/python3\n",
      "cachedir: .pytest_cache\n",
      "hypothesis profile 'default' -> database=DirectoryBasedExampleDatabase(PosixPath('/home/kaustubh/Projects/kNN-Samrajya/Tests/HelperFunctions/.hypothesis/examples'))\n",
      "rootdir: /home/kaustubh/Projects/kNN-Samrajya/Tests/HelperFunctions\n",
      "plugins: ligo.skymap-1.0.7, hypothesis-6.131.0, anyio-3.6.2\n",
      "collected 1 item.. \u001b[0m\n",
      "\n",
      "\u001b[32mPASSED\u001b[0m\u001b[32m                                     [100%]\u001b[0m\n",
      "\n",
      "\u001b[32m======================================== \u001b[32m\u001b[1m1 passed\u001b[0m\u001b[32m in 0.01s\u001b[0m\u001b[32m =========================================\u001b[0m\n"
     ]
    }
   ],
   "source": [
    "%%ipytest -vv\n",
    "#-vv means verbose\n",
    "\n",
    "def test_bl_th():\n",
    "\n",
    "    l = 0\n",
    "    ss = np.pi/2\n",
    "\n",
    "    bl = hf.bl_th(l, ss)\n",
    "    \n",
    "    assert bl==(1-np.cos(ss))/(4*np.pi*(1-np.cos(ss)))"
   ]
  },
  {
   "cell_type": "code",
   "execution_count": 16,
   "id": "1e16c54e-b0db-4e44-bbd1-0abad8daf34b",
   "metadata": {},
   "outputs": [
    {
     "name": "stdout",
     "output_type": "stream",
     "text": [
      "\u001b[1m======================================= test session starts ========================================\u001b[0m\n",
      "platform linux -- Python 3.10.12, pytest-7.3.1, pluggy-1.0.0 -- /usr/bin/python3\n",
      "cachedir: .pytest_cache\n",
      "hypothesis profile 'default' -> database=DirectoryBasedExampleDatabase(PosixPath('/home/kaustubh/Projects/kNN-Samrajya/Tests/HelperFunctions/.hypothesis/examples'))\n",
      "rootdir: /home/kaustubh/Projects/kNN-Samrajya/Tests/HelperFunctions\n",
      "plugins: ligo.skymap-1.0.7, hypothesis-6.131.0, anyio-3.6.2\n",
      "collected 3 items. \u001b[0m\n",
      "\n",
      "\u001b[32mPASSED\u001b[0m\u001b[32m [ 33%]\u001b[0m9be.py::test_bl_th[0-1.5707963267948966-0.07957747154594767] \n",
      "\u001b[32mPASSED\u001b[0m\u001b[32m [ 66%]\u001b[0m9be.py::test_bl_th[0-3.141592653589793-0.07957747154594767] \n",
      "\u001b[31mFAILED\u001b[0m\u001b[31m            [100%]\u001b[0mt_bl_th[0-3.141592653589793-1.0] \n",
      "\n",
      "============================================= FAILURES =============================================\n",
      "\u001b[31m\u001b[1m_______________________________ test_bl_th[0-3.141592653589793-1.0] ________________________________\u001b[0m\n",
      "\n",
      "l = 0, ss = 3.141592653589793, expected_output = 1.0\n",
      "\n",
      "    \u001b[37m@pytest\u001b[39;49;00m.mark.parametrize(\u001b[33m\"\u001b[39;49;00m\u001b[33ml, ss, expected_output\u001b[39;49;00m\u001b[33m\"\u001b[39;49;00m,\u001b[90m\u001b[39;49;00m\n",
      "                             [(\u001b[94m0\u001b[39;49;00m, np.pi/\u001b[94m2\u001b[39;49;00m, (\u001b[94m1\u001b[39;49;00m-np.cos(np.pi/\u001b[94m2\u001b[39;49;00m))/(\u001b[94m4\u001b[39;49;00m*np.pi*(\u001b[94m1\u001b[39;49;00m-np.cos(np.pi/\u001b[94m2\u001b[39;49;00m)))),\u001b[90m\u001b[39;49;00m\n",
      "                              (\u001b[94m0\u001b[39;49;00m, np.pi, (\u001b[94m1\u001b[39;49;00m-np.cos(np.pi))/(\u001b[94m4\u001b[39;49;00m*np.pi*(\u001b[94m1\u001b[39;49;00m-np.cos(np.pi)))),\u001b[90m\u001b[39;49;00m\n",
      "                              (\u001b[94m0\u001b[39;49;00m, np.pi, \u001b[94m1.0\u001b[39;49;00m)])\u001b[90m\u001b[39;49;00m\n",
      "    \u001b[90m\u001b[39;49;00m\n",
      "    \u001b[94mdef\u001b[39;49;00m\u001b[90m \u001b[39;49;00m\u001b[92mtest_bl_th\u001b[39;49;00m(l, ss, expected_output):\u001b[90m\u001b[39;49;00m\n",
      "    \u001b[90m\u001b[39;49;00m\n",
      "        \u001b[90m## Act\u001b[39;49;00m\u001b[90m\u001b[39;49;00m\n",
      "        output = hf.bl_th(l, ss)\u001b[90m\u001b[39;49;00m\n",
      "    \u001b[90m\u001b[39;49;00m\n",
      "        \u001b[90m## Assert\u001b[39;49;00m\u001b[90m\u001b[39;49;00m\n",
      ">       \u001b[94massert\u001b[39;49;00m output==expected_output\u001b[90m\u001b[39;49;00m\n",
      "\u001b[1m\u001b[31mE       assert 0.07957747154594767 == 1.0\u001b[0m\n",
      "\n",
      "\u001b[1m\u001b[31m/tmp/ipykernel_56849/765748371.py\u001b[0m:14: AssertionError\n",
      "\u001b[36m\u001b[1m===================================== short test summary info ======================================\u001b[0m\n",
      "\u001b[31mFAILED\u001b[0m t_2d7083d7d316447490b843ffc63069be.py::\u001b[1mtest_bl_th[0-3.141592653589793-1.0]\u001b[0m - assert 0.07957747154594767 == 1.0\n",
      "\u001b[31m=================================== \u001b[31m\u001b[1m1 failed\u001b[0m, \u001b[32m2 passed\u001b[0m\u001b[31m in 0.11s\u001b[0m\u001b[31m ====================================\u001b[0m\n"
     ]
    }
   ],
   "source": [
    "%%ipytest -vv\n",
    "#For multiple input-output test pairs\n",
    "\n",
    "@pytest.mark.parametrize(\"l, ss, expected_output\", \n",
    "                         [(0, np.pi/2, (1-np.cos(np.pi/2))/(4*np.pi*(1-np.cos(np.pi/2)))), \n",
    "                          (0, np.pi, (1-np.cos(np.pi))/(4*np.pi*(1-np.cos(np.pi)))),\n",
    "                          (0, np.pi, 1.0)])\n",
    "\n",
    "def test_bl_th(l, ss, expected_output):\n",
    "    \n",
    "    ## Act\n",
    "    output = hf.bl_th(l, ss)\n",
    "\n",
    "    ## Assert\n",
    "    assert output==expected_output"
   ]
  },
  {
   "cell_type": "code",
   "execution_count": 19,
   "id": "1f549c93-ba62-4636-867b-c7ddd62d9fc1",
   "metadata": {},
   "outputs": [
    {
     "name": "stdout",
     "output_type": "stream",
     "text": [
      "\u001b[32m.\u001b[0m\u001b[32m                                                                                            [100%]\u001b[0m\n",
      "\u001b[32m\u001b[32m\u001b[1m1 passed\u001b[0m\u001b[32m in 0.01s\u001b[0m\u001b[0m\n"
     ]
    }
   ],
   "source": [
    "%%ipytest\n",
    "\n",
    "def test_top_hat_smoothing_2DA_ValueError():\n",
    "\n",
    "    #Check if the function raises a ValueError if the parameters provided are outside the expected range\n",
    "    with pytest.raises(ValueError):\n",
    "        output = hf.top_hat_smoothing_2DA(np.ones(12*(2**6)**2), 3*np.pi)"
   ]
  },
  {
   "cell_type": "code",
   "execution_count": 26,
   "id": "eed30d88-6b7f-43a6-b4ec-6ffb017631c9",
   "metadata": {},
   "outputs": [
    {
     "name": "stdout",
     "output_type": "stream",
     "text": [
      "\u001b[32m.\u001b[0m\u001b[32m                                                                                            [100%]\u001b[0m\n",
      "\u001b[32m\u001b[32m\u001b[1m1 passed\u001b[0m\u001b[32m in 1.51s\u001b[0m\u001b[0m\n"
     ]
    }
   ],
   "source": [
    "%%ipytest\n",
    "\n",
    "def test_top_hat_smoothing_2DA():\n",
    "\n",
    "    #Check if the smoothed version of a constant field is close to itself within a certain tolerance (in principle they should be exactly equal)\n",
    "    #Note that the NSIDE needs to be high enough for this to pass, or you need to reduce the tolerance in np.isclose())\n",
    "    NSIDE = 256\n",
    "    size = 12*NSIDE**2\n",
    "    skymap = np.ones(size)\n",
    "    skymap_normalized = skymap/np.sum(skymap)\n",
    "    scale = np.deg2rad(0.1)\n",
    "    smooth_skymap = hf.top_hat_smoothing_2DA(skymap_normalized, scale)\n",
    "\n",
    "    assert np.all(np.isclose(smooth_skymap, skymap_normalized))\n",
    "\n",
    "    #Check if the smoothed version of a 0 field is exactly 0\n",
    "    NSIDE = 64\n",
    "    size = 12*NSIDE**2\n",
    "    skymap = np.zeros(size)\n",
    "    scale = np.deg2rad(5)\n",
    "    smooth_skymap = hf.top_hat_smoothing_2DA(skymap, scale)\n",
    "\n",
    "    assert np.all(smooth_skymap==0.0)"
   ]
  }
 ],
 "metadata": {
  "kernelspec": {
   "display_name": "Python 3 (ipykernel)",
   "language": "python",
   "name": "python3"
  },
  "language_info": {
   "codemirror_mode": {
    "name": "ipython",
    "version": 3
   },
   "file_extension": ".py",
   "mimetype": "text/x-python",
   "name": "python",
   "nbconvert_exporter": "python",
   "pygments_lexer": "ipython3",
   "version": "3.10.12"
  }
 },
 "nbformat": 4,
 "nbformat_minor": 5
}
