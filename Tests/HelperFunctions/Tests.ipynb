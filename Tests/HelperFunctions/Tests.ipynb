{
 "cells": [
  {
   "cell_type": "markdown",
   "id": "6f296739-cf81-4b22-9142-064d91162d83",
   "metadata": {},
   "source": [
    "# Imports"
   ]
  },
  {
   "cell_type": "code",
   "execution_count": 1,
   "id": "9e4ef8c2-0211-4c42-96fe-ccae0a321f87",
   "metadata": {
    "scrolled": true
   },
   "outputs": [],
   "source": [
    "#Install ipytest (uncomment only if not already installed)\n",
    "\n",
    "# !pip install ipytest"
   ]
  },
  {
   "cell_type": "code",
   "execution_count": 2,
   "id": "582a4b68-0194-48d1-a6c7-e755ba0c5e41",
   "metadata": {},
   "outputs": [],
   "source": [
    "#External libraries\n",
    "\n",
    "import ipytest\n",
    "import pytest\n",
    "\n",
    "import numpy as np\n",
    "\n",
    "import os\n",
    "import sys"
   ]
  },
  {
   "cell_type": "code",
   "execution_count": 3,
   "id": "aac2380f-4e4a-4dec-9406-610f46025e62",
   "metadata": {},
   "outputs": [],
   "source": [
    "#The module that needs to be tested\n",
    "\n",
    "#Necessary for relative imports (see https://stackoverflow.com/questions/34478398/import-local-function-from-a-module-housed-in-another-directory-with-relative-im)\n",
    "module_path = os.path.abspath(os.path.join('../../'))           # '../../' is needed because the parent directory is two directories upstream of this test directory\n",
    "if module_path not in sys.path:\n",
    "    sys.path.append(module_path)\n",
    "\n",
    "from kNN_ASMR import HelperFunctions as hf"
   ]
  },
  {
   "cell_type": "markdown",
   "id": "04e01acd-e3ae-4ad8-9d46-5bf590b61762",
   "metadata": {},
   "source": [
    "# Setup"
   ]
  },
  {
   "cell_type": "code",
   "execution_count": 4,
   "id": "59da17f1-79c8-4055-a65b-d19e36fe8284",
   "metadata": {},
   "outputs": [],
   "source": [
    "ipytest.autoconfig()"
   ]
  },
  {
   "cell_type": "markdown",
   "id": "ef507aef-5016-4853-9671-e36c579e8872",
   "metadata": {},
   "source": [
    "# Test functions"
   ]
  },
  {
   "cell_type": "code",
   "execution_count": 5,
   "id": "87948d47-3474-409d-afe3-9ae4d5f97d09",
   "metadata": {},
   "outputs": [
    {
     "name": "stdout",
     "output_type": "stream",
     "text": [
      "\u001b[32m.\u001b[0m\u001b[32m                                                                                            [100%]\u001b[0m\n",
      "\u001b[32m\u001b[32m\u001b[1m1 passed\u001b[0m\u001b[32m in 0.01s\u001b[0m\u001b[0m\n"
     ]
    }
   ],
   "source": [
    "%%ipytest\n",
    "\n",
    "def test_bl_th():\n",
    "\n",
    "    l = 0\n",
    "    ss = np.pi/2\n",
    "\n",
    "    bl = hf.bl_th(l, ss)\n",
    "    \n",
    "    assert bl==(1-np.cos(ss))/(4*np.pi*(1-np.cos(ss)))"
   ]
  },
  {
   "cell_type": "code",
   "execution_count": 6,
   "id": "ba0f9fc1-d4e3-4561-8e03-3d8a18a6de46",
   "metadata": {},
   "outputs": [
    {
     "name": "stdout",
     "output_type": "stream",
     "text": [
      "\u001b[32m.\u001b[0m\u001b[32m.\u001b[0m\u001b[32m                                                                                           [100%]\u001b[0m\n",
      "\u001b[32m\u001b[32m\u001b[1m2 passed\u001b[0m\u001b[32m in 0.83s\u001b[0m\u001b[0m\n"
     ]
    }
   ],
   "source": [
    "%%ipytest\n",
    "\n",
    "def test_top_hat_smoothing_2DA_ValueError():\n",
    "\n",
    "    #Check if the function raises a ValueError if the parameters provided are outside the expected range\n",
    "    with pytest.raises(ValueError):\n",
    "        output = hf.top_hat_smoothing_2DA(np.ones(12*(2**6)**2), 3*np.pi)\n",
    "\n",
    "def test_top_hat_smoothing_2DA():\n",
    "\n",
    "    #Check if the smoothed version of a constant field is close to itself within a certain tolerance (in principle they should be exactly equal)\n",
    "    #Note that the NSIDE needs to be high enough for this to pass, or you need to reduce the tolerance in np.isclose())\n",
    "    NSIDE = 256\n",
    "    size = 12*NSIDE**2\n",
    "    skymap = np.ones(size)\n",
    "    skymap_normalized = skymap/np.sum(skymap)\n",
    "    scale = np.deg2rad(0.1)\n",
    "    smooth_skymap = hf.top_hat_smoothing_2DA(skymap_normalized, scale)\n",
    "\n",
    "    assert np.all(np.isclose(smooth_skymap, skymap_normalized))\n",
    "\n",
    "    #Check if the smoothed version of a 0 field is exactly 0\n",
    "    NSIDE = 64\n",
    "    size = 12*NSIDE**2\n",
    "    skymap = np.zeros(size)\n",
    "    scale = np.deg2rad(5)\n",
    "    smooth_skymap = hf.top_hat_smoothing_2DA(skymap, scale)\n",
    "\n",
    "    assert np.all(smooth_skymap==0.0)"
   ]
  }
 ],
 "metadata": {
  "kernelspec": {
   "display_name": "Python 3 (ipykernel)",
   "language": "python",
   "name": "python3"
  },
  "language_info": {
   "codemirror_mode": {
    "name": "ipython",
    "version": 3
   },
   "file_extension": ".py",
   "mimetype": "text/x-python",
   "name": "python",
   "nbconvert_exporter": "python",
   "pygments_lexer": "ipython3",
   "version": "3.10.12"
  }
 },
 "nbformat": 4,
 "nbformat_minor": 5
}
